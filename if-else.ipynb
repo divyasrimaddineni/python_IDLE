{
 "cells": [
  {
   "cell_type": "code",
   "execution_count": 1,
   "id": "8969a3f6",
   "metadata": {},
   "outputs": [
    {
     "name": "stdout",
     "output_type": "stream",
     "text": [
      "Enter the number:233\n",
      "Odd number\n"
     ]
    }
   ],
   "source": [
    "#even or odd\n",
    "\n",
    "num=int(input(\"Enter the number:\"))\n",
    "if num%2==0:\n",
    "    print(\"Even number\")\n",
    "else:\n",
    "    print(\"Odd number\")"
   ]
  },
  {
   "cell_type": "code",
   "execution_count": 2,
   "id": "f7667016",
   "metadata": {},
   "outputs": [
    {
     "name": "stdout",
     "output_type": "stream",
     "text": [
      "Enter the number:20\n",
      "hello\n"
     ]
    }
   ],
   "source": [
    "#pgm to display \"hello\" if the given nuber is mutiple of 5 else display\"Bye\"\n",
    "\n",
    "num=int(input(\"Enter the number:\"))\n",
    "if num%5==0:\n",
    "    print(\"hello\")\n",
    "else:\n",
    "    print(\"Bye\")"
   ]
  },
  {
   "cell_type": "code",
   "execution_count": 14,
   "id": "7c132aad",
   "metadata": {},
   "outputs": [
    {
     "ename": "SyntaxError",
     "evalue": "invalid syntax (Temp/ipykernel_8260/2478371629.py, line 4)",
     "output_type": "error",
     "traceback": [
      "\u001b[1;36m  File \u001b[1;32m\"C:\\Users\\DIVYAM~1\\AppData\\Local\\Temp/ipykernel_8260/2478371629.py\"\u001b[1;36m, line \u001b[1;32m4\u001b[0m\n\u001b[1;33m    return amt=0\u001b[0m\n\u001b[1;37m              ^\u001b[0m\n\u001b[1;31mSyntaxError\u001b[0m\u001b[1;31m:\u001b[0m invalid syntax\n"
     ]
    }
   ],
   "source": [
    "#electricty bill: first 100units->no charge,next 100units->5/- per unit,after 200->10/- per unit\n",
    "unit=int(input(\"enter the number of units:\"))\n",
    "    if unit<=100:\n",
    "        amt=0\n",
    "    elif unit<100 and unit>=200:\n",
    "        amt=(unit-100)*5\n",
    "    elif unit<200:\n",
    "        amt=500+(unit-200)*10\n",
    "\n"
   ]
  },
  {
   "cell_type": "code",
   "execution_count": null,
   "id": "18c143f6",
   "metadata": {},
   "outputs": [],
   "source": []
  }
 ],
 "metadata": {
  "kernelspec": {
   "display_name": "Python 3 (ipykernel)",
   "language": "python",
   "name": "python3"
  },
  "language_info": {
   "codemirror_mode": {
    "name": "ipython",
    "version": 3
   },
   "file_extension": ".py",
   "mimetype": "text/x-python",
   "name": "python",
   "nbconvert_exporter": "python",
   "pygments_lexer": "ipython3",
   "version": "3.9.7"
  }
 },
 "nbformat": 4,
 "nbformat_minor": 5
}
