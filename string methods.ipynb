{
 "cells": [
  {
   "cell_type": "code",
   "execution_count": 3,
   "id": "446e48fb",
   "metadata": {},
   "outputs": [
    {
     "name": "stdout",
     "output_type": "stream",
     "text": [
      "India is our country\n",
      "India is my country\n"
     ]
    }
   ],
   "source": [
    "x=\"India is my country\"\n",
    "print(x.replace(\"my\",\"our\"))\n",
    "\n",
    "print(x) # string methods will not change/affect the original string."
   ]
  },
  {
   "cell_type": "code",
   "execution_count": 14,
   "id": "0cf69f33",
   "metadata": {},
   "outputs": [
    {
     "name": "stdout",
     "output_type": "stream",
     "text": [
      "I am an Indian\n",
      "India is my country\n",
      "Indian  is my country \n",
      " India is my countries\n"
     ]
    }
   ],
   "source": [
    "x=\"India is my country\"\n",
    "print(x.replace(\"India is my country\",\"I am an Indian\"))\n",
    "print(x)\n",
    "print(x.replace(\"ia\",'ian '),\"\\n\",x.replace(\"try\",\"tries\"))"
   ]
  },
  {
   "cell_type": "code",
   "execution_count": 17,
   "id": "894896ee",
   "metadata": {},
   "outputs": [
    {
     "name": "stdout",
     "output_type": "stream",
     "text": [
      "India is my country\n"
     ]
    }
   ],
   "source": [
    "x=\"India Is My Country\"\n",
    "print(x.capitalize())"
   ]
  },
  {
   "cell_type": "code",
   "execution_count": 18,
   "id": "75b94e32",
   "metadata": {},
   "outputs": [
    {
     "name": "stdout",
     "output_type": "stream",
     "text": [
      "DELHI\n"
     ]
    }
   ],
   "source": [
    "z=\"DelHi\"\n",
    "print(z.upper())"
   ]
  },
  {
   "cell_type": "code",
   "execution_count": 19,
   "id": "16a67a9d",
   "metadata": {},
   "outputs": [
    {
     "name": "stdout",
     "output_type": "stream",
     "text": [
      "hyderabad\n"
     ]
    }
   ],
   "source": [
    "x=\"hydERaBaD\"\n",
    "print(x.lower())"
   ]
  },
  {
   "cell_type": "code",
   "execution_count": 32,
   "id": "5c4ad90c",
   "metadata": {},
   "outputs": [
    {
     "name": "stdout",
     "output_type": "stream",
     "text": [
      "7\n",
      "3\n",
      "5\n",
      "2\n",
      "0\n",
      "3 3 3\n"
     ]
    }
   ],
   "source": [
    "x=\"hello hello hello...how are you???, HELLO!!, are you OK??, Man!!!....\"\n",
    "print(x.count(\".\"))\n",
    "print(x.count(\"..\"))\n",
    "print(x.count(\"!\"))\n",
    "print(x.count(\"ar\"))\n",
    "print(x.count(\"ae\"))\n",
    "print(x.count(\",\"), x.count(\"hello\"),x.count(\"ll\"))"
   ]
  },
  {
   "cell_type": "code",
   "execution_count": 36,
   "id": "058b50e4",
   "metadata": {},
   "outputs": [
    {
     "name": "stdout",
     "output_type": "stream",
     "text": [
      "Python AWS and Devops are the trending technologies \n",
      " C java and C++ are the trending technologies\n",
      "Devops Python and AWS are the trending technologies\n"
     ]
    }
   ],
   "source": [
    "w=\"{0} {1} and {2} are the trending technologies\"\n",
    "print(w.format(\"Python\",'AWS','Devops'),\"\\n\",w.format(\"C\",\"java\",\"C++\"))\n",
    "\n",
    "w=\"{2} {0} and {1} are the trending technologies\"\n",
    "print(w.format(\"Python\",'AWS','Devops'))\n"
   ]
  },
  {
   "cell_type": "code",
   "execution_count": 40,
   "id": "861b1a3c",
   "metadata": {},
   "outputs": [
    {
     "name": "stdout",
     "output_type": "stream",
     "text": [
      "    good     mrng    divyasri     \n",
      "34\n",
      "good     mrng    divyasri\n",
      "25\n"
     ]
    }
   ],
   "source": [
    "x=\"    good     mrng    divyasri     \"\n",
    "print(x)\n",
    "print(len(x))\n",
    "xyz=x.strip()\n",
    "print(xyz)\n",
    "print(len(xyz))"
   ]
  },
  {
   "cell_type": "code",
   "execution_count": 46,
   "id": "419a9be9",
   "metadata": {},
   "outputs": [
    {
     "name": "stdout",
     "output_type": "stream",
     "text": [
      "7\n",
      "-1\n"
     ]
    }
   ],
   "source": [
    "a=\"python is case-sensitive and it is also a programming language\"\n",
    "print(a.find(\"is\"))\n",
    "print(a.find(\"alsos\"))"
   ]
  },
  {
   "cell_type": "code",
   "execution_count": 48,
   "id": "7f97bf58",
   "metadata": {},
   "outputs": [
    {
     "name": "stdout",
     "output_type": "stream",
     "text": [
      "Myself Divya and I'm 23\n"
     ]
    }
   ],
   "source": [
    "print(\"Myself {name} and I'm {age}\".format(name=\"Divya\",age=\"23\"))"
   ]
  },
  {
   "cell_type": "code",
   "execution_count": 52,
   "id": "49ad2afe",
   "metadata": {},
   "outputs": [
    {
     "name": "stdout",
     "output_type": "stream",
     "text": [
      "['hi', 'how are you?', \" how's ur life?\"]\n",
      "['hii', 'how r u? are you ok? !'] ['hii#how r u', ' are you ok', ' !']\n"
     ]
    }
   ],
   "source": [
    "y=\"hi,how are you?, how's ur life?\"\n",
    "print(y.split(\",\"))\n",
    "\n",
    "z=\"hii#how r u? are you ok? !\"\n",
    "print(z.split(\"#\"), z.split(\"?\"))"
   ]
  },
  {
   "cell_type": "code",
   "execution_count": 53,
   "id": "775f25ef",
   "metadata": {},
   "outputs": [
    {
     "name": "stdout",
     "output_type": "stream",
     "text": [
      "False\n",
      "True\n"
     ]
    }
   ],
   "source": [
    "x='divya is a brave girl'\n",
    "print(x.startswith('is'))\n",
    "print(x.endswith('girl'))"
   ]
  },
  {
   "cell_type": "code",
   "execution_count": 55,
   "id": "72f23ffc",
   "metadata": {},
   "outputs": [
    {
     "name": "stdout",
     "output_type": "stream",
     "text": [
      "nameANDageANDsex\n"
     ]
    }
   ],
   "source": [
    "#when using an iterable, the returned values are keys but not values.\n",
    "x={\"name\":\"divya\",\"age\":\"23\",\"sex\":\"female\"}\n",
    "y=\"AND\".join(x)\n",
    "print(y)"
   ]
  },
  {
   "cell_type": "code",
   "execution_count": 3,
   "id": "ffa32e10",
   "metadata": {},
   "outputs": [
    {
     "name": "stdout",
     "output_type": "stream",
     "text": [
      "False\n",
      "True\n"
     ]
    }
   ],
   "source": [
    "s='India is my country'\n",
    "print(s.isalpha())\n",
    "\n",
    "x='DivyasriMaddineni'\n",
    "print(x.isalpha())\n",
    "\n"
   ]
  },
  {
   "cell_type": "code",
   "execution_count": 4,
   "id": "97915263",
   "metadata": {},
   "outputs": [
    {
     "name": "stdout",
     "output_type": "stream",
     "text": [
      "False\n"
     ]
    }
   ],
   "source": [
    "x='Divya123sri345'\n",
    "print(x.isalpha())"
   ]
  },
  {
   "cell_type": "code",
   "execution_count": null,
   "id": "4984ce67",
   "metadata": {},
   "outputs": [],
   "source": []
  }
 ],
 "metadata": {
  "kernelspec": {
   "display_name": "Python 3 (ipykernel)",
   "language": "python",
   "name": "python3"
  },
  "language_info": {
   "codemirror_mode": {
    "name": "ipython",
    "version": 3
   },
   "file_extension": ".py",
   "mimetype": "text/x-python",
   "name": "python",
   "nbconvert_exporter": "python",
   "pygments_lexer": "ipython3",
   "version": "3.9.7"
  }
 },
 "nbformat": 4,
 "nbformat_minor": 5
}
