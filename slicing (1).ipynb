{
 "cells": [
  {
   "cell_type": "code",
   "execution_count": 1,
   "id": "46d7c97d",
   "metadata": {},
   "outputs": [],
   "source": [
    "x='python program'"
   ]
  },
  {
   "cell_type": "code",
   "execution_count": 2,
   "id": "d35cc49f",
   "metadata": {},
   "outputs": [
    {
     "name": "stdout",
     "output_type": "stream",
     "text": [
      "14\n"
     ]
    }
   ],
   "source": [
    "print(len(x))"
   ]
  },
  {
   "cell_type": "code",
   "execution_count": 3,
   "id": "b9956593",
   "metadata": {},
   "outputs": [
    {
     "name": "stdout",
     "output_type": "stream",
     "text": [
      "python program\n"
     ]
    }
   ],
   "source": [
    "print(x[0:])"
   ]
  },
  {
   "cell_type": "code",
   "execution_count": 4,
   "id": "0a691c54",
   "metadata": {},
   "outputs": [
    {
     "name": "stdout",
     "output_type": "stream",
     "text": [
      "python program\n"
     ]
    }
   ],
   "source": [
    "print(x[:14])"
   ]
  },
  {
   "cell_type": "code",
   "execution_count": 5,
   "id": "20174961",
   "metadata": {},
   "outputs": [
    {
     "name": "stdout",
     "output_type": "stream",
     "text": [
      "python program\n"
     ]
    }
   ],
   "source": [
    "print(x[0:14])"
   ]
  },
  {
   "cell_type": "code",
   "execution_count": 6,
   "id": "0a385abb",
   "metadata": {},
   "outputs": [
    {
     "name": "stdout",
     "output_type": "stream",
     "text": [
      "\n"
     ]
    }
   ],
   "source": [
    "print(x[14:])"
   ]
  },
  {
   "cell_type": "code",
   "execution_count": 7,
   "id": "24916b35",
   "metadata": {},
   "outputs": [
    {
     "name": "stdout",
     "output_type": "stream",
     "text": [
      "\n"
     ]
    }
   ],
   "source": [
    "print(x[14:0])"
   ]
  },
  {
   "cell_type": "code",
   "execution_count": 8,
   "id": "ed4a662b",
   "metadata": {},
   "outputs": [
    {
     "name": "stdout",
     "output_type": "stream",
     "text": [
      "python pro\n"
     ]
    }
   ],
   "source": [
    "print(x[0:10])"
   ]
  },
  {
   "cell_type": "code",
   "execution_count": 9,
   "id": "0af7861a",
   "metadata": {},
   "outputs": [
    {
     "name": "stdout",
     "output_type": "stream",
     "text": [
      "m\n"
     ]
    }
   ],
   "source": [
    "print(x[-1:])"
   ]
  },
  {
   "cell_type": "code",
   "execution_count": 14,
   "id": "c3e0429c",
   "metadata": {},
   "outputs": [
    {
     "name": "stdout",
     "output_type": "stream",
     "text": [
      "python progra\n"
     ]
    }
   ],
   "source": [
    "print(x[:-1])"
   ]
  },
  {
   "cell_type": "code",
   "execution_count": 12,
   "id": "9cdd6c63",
   "metadata": {},
   "outputs": [
    {
     "name": "stdout",
     "output_type": "stream",
     "text": [
      "n p\n"
     ]
    }
   ],
   "source": [
    "print(x[-9:-6])"
   ]
  },
  {
   "cell_type": "code",
   "execution_count": 13,
   "id": "6e457910",
   "metadata": {},
   "outputs": [
    {
     "name": "stdout",
     "output_type": "stream",
     "text": [
      "program\n"
     ]
    }
   ],
   "source": [
    "print(x[-7:14])"
   ]
  },
  {
   "cell_type": "code",
   "execution_count": 16,
   "id": "feca2742",
   "metadata": {},
   "outputs": [
    {
     "name": "stdout",
     "output_type": "stream",
     "text": [
      "n p\n"
     ]
    }
   ],
   "source": [
    "print(x[5:-6])"
   ]
  },
  {
   "cell_type": "code",
   "execution_count": 17,
   "id": "bff724e3",
   "metadata": {},
   "outputs": [
    {
     "name": "stdout",
     "output_type": "stream",
     "text": [
      "pto rga\n"
     ]
    }
   ],
   "source": [
    "print(x[0:14:2])"
   ]
  },
  {
   "cell_type": "code",
   "execution_count": 19,
   "id": "25f9b0fb",
   "metadata": {},
   "outputs": [
    {
     "name": "stdout",
     "output_type": "stream",
     "text": [
      "pto rga\n",
      "pto rga\n"
     ]
    }
   ],
   "source": [
    "print(x[: : 2])\n",
    "print(x[::2])"
   ]
  },
  {
   "cell_type": "code",
   "execution_count": 20,
   "id": "06e62ec3",
   "metadata": {},
   "outputs": [
    {
     "name": "stdout",
     "output_type": "stream",
     "text": [
      "python program\n"
     ]
    }
   ],
   "source": [
    "print(x[0:14:])"
   ]
  },
  {
   "cell_type": "code",
   "execution_count": 21,
   "id": "8f5c12db",
   "metadata": {},
   "outputs": [
    {
     "name": "stdout",
     "output_type": "stream",
     "text": [
      "yopgm\n"
     ]
    }
   ],
   "source": [
    "print(x[1::3])"
   ]
  },
  {
   "cell_type": "code",
   "execution_count": 22,
   "id": "b0698d0a",
   "metadata": {},
   "outputs": [
    {
     "name": "stdout",
     "output_type": "stream",
     "text": [
      "mropnhy\n"
     ]
    }
   ],
   "source": [
    "print(x[::-2])"
   ]
  },
  {
   "cell_type": "code",
   "execution_count": 23,
   "id": "186f8321",
   "metadata": {},
   "outputs": [
    {
     "name": "stdout",
     "output_type": "stream",
     "text": [
      "\n"
     ]
    }
   ],
   "source": [
    "print(x[0:14:-2])"
   ]
  },
  {
   "cell_type": "code",
   "execution_count": 24,
   "id": "8b41282f",
   "metadata": {},
   "outputs": [
    {
     "ename": "ValueError",
     "evalue": "slice step cannot be zero",
     "output_type": "error",
     "traceback": [
      "\u001b[1;31m---------------------------------------------------------------------------\u001b[0m",
      "\u001b[1;31mValueError\u001b[0m                                Traceback (most recent call last)",
      "\u001b[1;32mC:\\Users\\DIVYAM~1\\AppData\\Local\\Temp/ipykernel_5888/657358381.py\u001b[0m in \u001b[0;36m<module>\u001b[1;34m\u001b[0m\n\u001b[1;32m----> 1\u001b[1;33m \u001b[0mprint\u001b[0m\u001b[1;33m(\u001b[0m\u001b[0mx\u001b[0m\u001b[1;33m[\u001b[0m\u001b[1;33m:\u001b[0m\u001b[1;33m:\u001b[0m\u001b[1;36m0\u001b[0m\u001b[1;33m]\u001b[0m\u001b[1;33m)\u001b[0m\u001b[1;33m\u001b[0m\u001b[1;33m\u001b[0m\u001b[0m\n\u001b[0m",
      "\u001b[1;31mValueError\u001b[0m: slice step cannot be zero"
     ]
    }
   ],
   "source": [
    "print(x[::0])"
   ]
  },
  {
   "cell_type": "code",
   "execution_count": 25,
   "id": "cf1eb50e",
   "metadata": {},
   "outputs": [
    {
     "ename": "ValueError",
     "evalue": "slice step cannot be zero",
     "output_type": "error",
     "traceback": [
      "\u001b[1;31m---------------------------------------------------------------------------\u001b[0m",
      "\u001b[1;31mValueError\u001b[0m                                Traceback (most recent call last)",
      "\u001b[1;32mC:\\Users\\DIVYAM~1\\AppData\\Local\\Temp/ipykernel_5888/4202361016.py\u001b[0m in \u001b[0;36m<module>\u001b[1;34m\u001b[0m\n\u001b[1;32m----> 1\u001b[1;33m \u001b[0mprint\u001b[0m\u001b[1;33m(\u001b[0m\u001b[0mx\u001b[0m\u001b[1;33m[\u001b[0m\u001b[1;36m2\u001b[0m\u001b[1;33m:\u001b[0m\u001b[1;36m14\u001b[0m\u001b[1;33m:\u001b[0m\u001b[1;36m0\u001b[0m\u001b[1;33m]\u001b[0m\u001b[1;33m)\u001b[0m\u001b[1;33m\u001b[0m\u001b[1;33m\u001b[0m\u001b[0m\n\u001b[0m",
      "\u001b[1;31mValueError\u001b[0m: slice step cannot be zero"
     ]
    }
   ],
   "source": [
    "print(x[2:14:0])"
   ]
  },
  {
   "cell_type": "code",
   "execution_count": 26,
   "id": "ca348411",
   "metadata": {},
   "outputs": [
    {
     "name": "stdout",
     "output_type": "stream",
     "text": [
      "margorp nohtyp\n"
     ]
    }
   ],
   "source": [
    "print(x[::-1])"
   ]
  },
  {
   "cell_type": "code",
   "execution_count": 3,
   "id": "26799f5f",
   "metadata": {},
   "outputs": [
    {
     "name": "stdout",
     "output_type": "stream",
     "text": [
      "\n"
     ]
    }
   ],
   "source": [
    "print(x[0:6:-1])"
   ]
  },
  {
   "cell_type": "code",
   "execution_count": 4,
   "id": "d37044a0",
   "metadata": {},
   "outputs": [
    {
     "name": "stdout",
     "output_type": "stream",
     "text": [
      "\n"
     ]
    }
   ],
   "source": [
    "print(x[-14:-8:-2])"
   ]
  },
  {
   "cell_type": "code",
   "execution_count": 35,
   "id": "9b9773a8",
   "metadata": {},
   "outputs": [
    {
     "name": "stdout",
     "output_type": "stream",
     "text": [
      "margorp nohtyp\n"
     ]
    }
   ],
   "source": [
    "print(x[14::-1])"
   ]
  },
  {
   "cell_type": "code",
   "execution_count": 37,
   "id": "a46cc01a",
   "metadata": {
    "scrolled": true
   },
   "outputs": [
    {
     "name": "stdout",
     "output_type": "stream",
     "text": [
      "margorp \n",
      "margorp \n"
     ]
    }
   ],
   "source": [
    "print(x[:5:-1])\n",
    "print(x[:-9:-1])"
   ]
  },
  {
   "cell_type": "code",
   "execution_count": 3,
   "id": "b809e919",
   "metadata": {},
   "outputs": [
    {
     "name": "stdout",
     "output_type": "stream",
     "text": [
      "margo\n",
      "mro\n"
     ]
    }
   ],
   "source": [
    "s='python program'\n",
    "print(s[-1:-6:-1])\n",
    "print(s[-1:-6:-2])\n"
   ]
  },
  {
   "cell_type": "code",
   "execution_count": 6,
   "id": "bc77bbf1",
   "metadata": {},
   "outputs": [
    {
     "name": "stdout",
     "output_type": "stream",
     "text": [
      "rogra\n"
     ]
    }
   ],
   "source": [
    "print(s[-6:-1])"
   ]
  },
  {
   "cell_type": "code",
   "execution_count": 5,
   "id": "f37bbb81",
   "metadata": {},
   "outputs": [
    {
     "name": "stdout",
     "output_type": "stream",
     "text": [
      "\n"
     ]
    }
   ],
   "source": [
    "print(s[-6:-1:-1])"
   ]
  },
  {
   "cell_type": "code",
   "execution_count": 7,
   "id": "51e6a05f",
   "metadata": {},
   "outputs": [
    {
     "name": "stdout",
     "output_type": "stream",
     "text": [
      "python progra\n"
     ]
    }
   ],
   "source": [
    "print(s[:-1])"
   ]
  },
  {
   "cell_type": "code",
   "execution_count": 8,
   "id": "0ef589e1",
   "metadata": {},
   "outputs": [
    {
     "name": "stdout",
     "output_type": "stream",
     "text": [
      "rga\n"
     ]
    }
   ],
   "source": [
    "print(s[-6:-1:2])"
   ]
  },
  {
   "cell_type": "code",
   "execution_count": 9,
   "id": "01a3c74c",
   "metadata": {},
   "outputs": [
    {
     "name": "stdout",
     "output_type": "stream",
     "text": [
      "\n"
     ]
    }
   ],
   "source": [
    "print(s[-6:-1:-2])"
   ]
  },
  {
   "cell_type": "code",
   "execution_count": 11,
   "id": "73c5c7b9",
   "metadata": {},
   "outputs": [
    {
     "name": "stdout",
     "output_type": "stream",
     "text": [
      "m\n"
     ]
    }
   ],
   "source": [
    "print(s[-1:-2:-3])"
   ]
  },
  {
   "cell_type": "code",
   "execution_count": null,
   "id": "945c9c0c",
   "metadata": {},
   "outputs": [],
   "source": []
  }
 ],
 "metadata": {
  "kernelspec": {
   "display_name": "Python 3 (ipykernel)",
   "language": "python",
   "name": "python3"
  },
  "language_info": {
   "codemirror_mode": {
    "name": "ipython",
    "version": 3
   },
   "file_extension": ".py",
   "mimetype": "text/x-python",
   "name": "python",
   "nbconvert_exporter": "python",
   "pygments_lexer": "ipython3",
   "version": "3.9.7"
  }
 },
 "nbformat": 4,
 "nbformat_minor": 5
}
